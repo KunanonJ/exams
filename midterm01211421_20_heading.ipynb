{
 "cells": [
  {
   "cell_type": "markdown",
   "metadata": {},
   "source": [
    "<a href=\"https://colab.research.google.com/github/dewdotninja/exams/blob/master/midterm01211421_20_heading.ipynb\" target=\"_parent\"><img src=\"https://colab.research.google.com/assets/colab-badge.svg\" alt=\"Open In Colab\"/></a>"
   ]
  },
  {
   "cell_type": "markdown",
   "metadata": {},
   "source": [
    "<p align=\"left\">\n",
    "<img src=\"https://raw.githubusercontent.com/dewdotninja/exams/main/feng_heading.png\" width=400 alt=\"Feng heading\"/>\n",
    "</p>\n",
    "\n",
    "#### ข้อสอบกลางภาค ประจำภาคปลาย ปีการศึกษา 2563\n",
    "<br>สาขาวิศวกรรมไฟฟ้าเครื่องกลการผลิต\n",
    "<br>วิชา 01211421 Embedded systems for industrial control หมู่เรียน 1, 250\n",
    "<br>วันอาทิตย์ที่ 24 มกราคม 2564 16.00 - 19.00 ทางออนไลน์\n",
    "\n",
    "ให้นิสิตพิมพ์ ชื่อ นามสกุล รหัสนิสิต หมู่เรียน ในเซลด้านล่างนี้ "
   ]
  },
  {
   "cell_type": "code",
   "execution_count": null,
   "metadata": {},
   "outputs": [],
   "source": []
  },
  {
   "cell_type": "markdown",
   "metadata": {},
   "source": [
    "### คำสั่ง\n",
    "\n",
    "1. ข้อสอบมี  ข้อ ให้ทำในไฟล์ notebook นี้ทั้งหมด โดยสามารถเพิ่มเซลได้ตามต้องการ \n",
    "2. เป็นแบบเปิดตำรา ใช้หนังสือหรือข้อมูลออนไลน์ได้ไม่จำกัด\n",
    "3. อธิบายและแสดงการคำนวณให้ชัดเจน สำหรับโจทย์ที่ต้องเขียนโปรแกรมแก้ปัญหา โปรแกรมต้องประมวลผลได้โดยไม่มีข้อผิดพลาดและให้คำตอบถูกต้องจึงได้คะแนนเต็ม\n",
    "4. ห้ามแก้ไขโจทย์โดยเด็ดขาด ผู้ที่แก้โจทย์จะได้คะแนนข้อนั้นเป็นศูนย์\n",
    "5. พารามิเตอร์ในโจทย์บางข้อขึ้นกับตัวเลข 3 หลักสุดท้ายของรหัสนิสิตของผู้ทำข้อสอบ ซึ่งจะต้องแทนค่าอย่างถูกต้องเท่านั้น (ดูคำอธิบายเพิ่มเติมด้านล่าง) \n",
    "6. สำหรับข้อที่โจทย์ให้เขียนโปรแกรม ถ้าจะใช้ซอฟต์แวร์อื่น อนุญาตเฉพาะ Scilab หรือ MATLAB เท่านั้น และจะต้องนำโค้ดที่สมบูรณ์มาใส่ในเซลเพื่อผู้ตรวจ\n",
    "สามารถตรวจสอบได้โดยง่าย <b>พร้อม capture ภาพที่แสดงคำตอบหรือกราฟมาวางโดยใช้ img tag โดยภาพอยู่ในลิงก์ URL สาธารณะ </b> ทั้งนี้เนื่องจาก\n",
    "เป็นกรรมวิธีที่ยุ่งยากและเสียเวลาขอแนะนำให้เขียนโค้ดทั้งหมดโดยใช้ภาษา Python บน Jupyter notebook\n"
   ]
  },
  {
   "cell_type": "markdown",
   "metadata": {},
   "source": [
    "<div align=\"center\">\n",
    "<b>รศ.ดร.พีรยุทธ์ ชาญเศรษฐิกุล</b>\t\t\tประธานกรรมการอำนวยการสอบ\n",
    "<br><b>ผศ.ดร.ประพจน์ ขุนทอง</b>\t\t\t\tกรรมการออกข้อสอบ\n",
    "<br><b>ดร.วโรดม ตู้จินดา</b>\t\t\t\t\tกรรมการออกข้อสอบ\n",
    "</div>\n"
   ]
  },
  {
   "cell_type": "markdown",
   "metadata": {},
   "source": [
    "***\n",
    "### สำหรับอาจารย์ผู้สอน\n",
    "\n",
    "| โจทย์ข้อสอบ | คะแนน |\n",
    "| --- | --- |\n",
    "| 1 |  |\n",
    "| 2 |  |"
   ]
  },
  {
   "cell_type": "markdown",
   "metadata": {},
   "source": [
    "### อธิบายเพิ่มเติมเกี่ยวกับค่าในโจทย์ข้อสอบ ที่ขึ้นกับตัวเลข 3 ตัวสุดท้ายของรหัสนิสิต คือ\n",
    "\n",
    "-------xyz  (ไม่สนใจเลขหลักอื่น )\n",
    "\n",
    "ถ้าตัวเลขตัวใดใน 3 หลักสุดท้ายเป็น 0 ให้แทนด้วยเลข 1 \n",
    "\n",
    "ตัวอย่างรหัสนิสิต\n",
    "\n",
    "นิสิต A : 6010552893  ได้ค่า x = 8, y = 9, z = 3\n",
    "\n",
    "นิสิต B : 6010502977  ได้ค่า x = 9, y = 7, z = 7\n",
    "\n",
    "นิสิต C : 6010503001 ได้ค่า x = 1, y = 1, z = 1\n",
    "\n",
    "ใช้ค่านี้กับโจทย์ทุกข้อในข้อสอบ\n",
    "\n",
    "เครื่องหมายที่ใช้ดำเนินการกับค่าตัวแปร\n",
    "\n",
    " \"+\" บวก\n",
    "\n",
    " \"-\"  ลบ\n",
    "\n",
    " \"*\"  คูณ \n",
    "\n",
    " \"/\" หาร\n",
    "\n",
    "\"^\" ยกกำลัง\n",
    "\n",
    "รวมถึงฟังก์ชันทางคณิตศาสตร์ เช่น $exp(x)$, $sin(z*t)$\n",
    "\n",
    "หากตัวแปรฝังอยู่ในหลักหนึ่งของตัวเลข ให้แทนหลักนั้นด้วยค่าตัวแปรเลย เช่น x=8 y = 3, 12x7 = 1287, 4.3y5 = 4.335\n",
    "\n",
    "โจทย์อาจจำหนดเงื่อนไขขึ้นกับ x, y, z เช่น ถ้า x<5 ทำเงื่อนไข A นอกนั้นทำเงื่อนไข B \n",
    "\n",
    "ตัวอย่างโจทย์บอกว่า กำหนดให้ $R1 = 1000*x \\,\\Omega, C1 = 10*y \\,\\mu F$\n",
    "\n",
    "นิสิต A ทำโจทย์ด้วยค่า R1 = 8000 $\\Omega$, C1 = 90 $\\mu$F\n",
    "\n",
    "นิสิต B ทำโจทย์ด้วยค่า R1 = 9000 $\\Omega$, C1 = 70 $\\mu$F\n",
    "\n",
    "นิสิต C ทำโจทย์ด้วยค่า R1 = 1000 $\\Omega$, C1 = 10 $\\mu$F\n",
    "\n",
    "ถ้ามีตรงส่วนใดที่ไม่ชัดเจนในข้อสอบ ให้เขียนอธิบายว่าเข้าใจโจทย์อย่างไร หากผู้ตรวจเห็นว่าโจทย์เป็นเหตุทำให้เข้าใจผิดได้ จะให้คะแนนในส่วนนั้น"
   ]
  },
  {
   "cell_type": "markdown",
   "metadata": {},
   "source": [
    "### หมายเหตุ\n",
    "\n",
    "ในตัวอย่างนี้จะสมมุติว่าทำโดยนิสิตที่มีรหัส 6010506258 ถอดรหัสได้ x = 2, y = 5, z = 8 "
   ]
  },
  {
   "cell_type": "code",
   "execution_count": null,
   "metadata": {},
   "outputs": [],
   "source": [
    "#หากใช้ Colab ทำข้อสอบ ต้องติดตั้งไลบรารีเพิ่ม\n",
    "!pip install slycot\n",
    "!pip install control"
   ]
  },
  {
   "cell_type": "code",
   "execution_count": 2,
   "metadata": {},
   "outputs": [],
   "source": [
    "# นำเข้าไลบรารีที่ต้องการใช้ \n",
    "import numpy as np\n",
    "import matplotlib.pyplot as plt\n",
    "import control as ctl"
   ]
  },
  {
   "cell_type": "markdown",
   "metadata": {},
   "source": [
    "***\n",
    "#### โจทย์ตัวอย่าง\n",
    "\n",
    "X1. (คำนวณ) จากรูปที่ 1 กำหนดให้ $V_S = z$ โวลต์ $R_S = 1000*x \\,\\Omega$, $R_L = 500*y \\,\\Omega$ จงคำนวณหา $V_L$\n",
    "\n",
    "<p align=\"center\">\n",
    "<img src=\"https://raw.githubusercontent.com/dewdotninja/exams/main/example_prob.png\" width=300 alt=\"Figure 1\"/>\n",
    "</p>\n",
    "<div align=\"center\"><b>รูปที่ 1 วงจรแบ่งแรงดัน</b></div>\n",
    "\n",
    "#### คำตอบ"
   ]
  },
  {
   "cell_type": "markdown",
   "metadata": {},
   "source": [
    "#### ตัวอย่างคำตอบที่ได้คะแนนเป็นศูนย์"
   ]
  },
  {
   "cell_type": "code",
   "execution_count": 5,
   "metadata": {},
   "outputs": [],
   "source": [
    "# ผมทำข้อนี้ไม่ได้ อ.โปรดเมตตาด้วยเกรดเฉลี่ยผมต่ำกว่า 2"
   ]
  },
  {
   "cell_type": "markdown",
   "metadata": {},
   "source": [
    "#### ตัวอย่างคำตอบที่ได้คะแนนครึ่งเดียว คือแม้ค่าอาจจะถูกต้อง แต่ไม่มีที่มาว่าได้คำตอบมาอย่างไร"
   ]
  },
  {
   "cell_type": "code",
   "execution_count": null,
   "metadata": {},
   "outputs": [],
   "source": [
    "Vl = 3.5"
   ]
  },
  {
   "cell_type": "markdown",
   "metadata": {},
   "source": [
    "#### ตัวอย่างคำตอบที่ได้คะแนนเต็ม"
   ]
  },
  {
   "cell_type": "code",
   "execution_count": 6,
   "metadata": {},
   "outputs": [
    {
     "data": {
      "text/plain": [
       "3.5555555555555554"
      ]
     },
     "execution_count": 6,
     "metadata": {},
     "output_type": "execute_result"
    }
   ],
   "source": [
    "Vs = 8\n",
    "Rs = 2000\n",
    "Rl = 2500\n",
    "Vl = (Rs/(Rs+Rl))*Vs\n",
    "Vl"
   ]
  },
  {
   "cell_type": "markdown",
   "metadata": {},
   "source": [
    "***\n",
    "X2. (โจทย์บรรยาย) ยกตัวอย่างประโยชน์การใช้งานของวงจรแบ่งแรงดันดังเช่นในรูปที่ 1\n",
    "\n",
    "#### คำตอบ"
   ]
  },
  {
   "cell_type": "code",
   "execution_count": null,
   "metadata": {},
   "outputs": [],
   "source": [
    "ใช้ในการลดแรงดันลงเพื่อให้เหมาะสมกับระดับแรงดัน A/D ของอินพุต สมมุติว่าวงจรด้าน Vs มีระดับ 5 โวลต์ หากนำเข้า A/D ของ MCU ที่ใช้แรงดัน 3.3 \n",
    "โวลต์อาจทำให้เกิดความเสียหายกับอินพุตได้ จึงใช้วงจรแบ่งแรงดันโดยเลือกค่า Rs, Rl เพื่อทำให้ Vl มีระดับ 3.3 โวลต์"
   ]
  },
  {
   "cell_type": "markdown",
   "metadata": {},
   "source": [
    "<b>หมายเหตุ : </b> สำหรับคำตอบบรรยายจะใช้ text cell หรือไม่ก็ได้ ถ้าใช้เซลคำสั่งไม่ต้องคลิกรันเซล เพราะจะทำให้เกิด error message"
   ]
  },
  {
   "cell_type": "markdown",
   "metadata": {},
   "source": [
    "***\n",
    "X3. (โปรแกรม) จากรูปที่ 1 กำหนดให้ $V_S(t) = z \\cos(y*t)$ โวลต์ $R_S = 1000*x \\,\\Omega$, $R_L = 500*y \\,\\Omega$ ให้พล็อตรูปคลื่น\n",
    "$V_L(t)$ เปรียบเทียบกับ $V_S(t)$ ในกราฟเดียวกัน ในช่วงเวลา t = 0 - 1 sec\n",
    "\n",
    "#### คำตอบ"
   ]
  },
  {
   "cell_type": "code",
   "execution_count": 7,
   "metadata": {},
   "outputs": [
    {
     "data": {
      "text/plain": [
       "<matplotlib.legend.Legend at 0x7f7ff664f990>"
      ]
     },
     "execution_count": 7,
     "metadata": {},
     "output_type": "execute_result"
    },
    {
     "data": {
      "image/png": "[encoded data removed]",
      "text/plain": [
       "<Figure size 432x288 with 1 Axes>"
      ]
     },
     "metadata": {
      "needs_background": "light"
     },
     "output_type": "display_data"
    }
   ],
   "source": [
    "# ต่าของ Rs, Rl เป็นค่าเดิมที่กำหนดโดยเซลในโจทย์ข้อก่อนหน้านี้แล้ว ไม่ต้องกำหนดซ้ำก็ได้\n",
    "\n",
    "tvec = np.arange(0,1,0.01)\n",
    "Vs = 8*np.cos(10*tvec)\n",
    "Vl = (Rs/(Rs+Rl))*Vs\n",
    "plt.figure()\n",
    "plt.plot(tvec,Vs,'b-',tvec,Vl,'r-')\n",
    "plt.xlabel('time (s)')\n",
    "plt.ylabel('volts')\n",
    "plt.grid(True)\n",
    "plt.legend([\"Vs(t)\",\"Vl(t)\"])"
   ]
  },
  {
   "cell_type": "markdown",
   "metadata": {},
   "source": [
    "<b>หมายเหตุ : </b> เซลคำตอบของโจทย์โปรแกรม ต้องคลิกรันเพื่อให้เห็นเอาต์พุตที่ถูกต้องตามคำสั่ง"
   ]
  },
  {
   "cell_type": "markdown",
   "metadata": {},
   "source": [
    "***\n",
    "X4. (โปรแกรม) พล็อตผลตอบสนองความถี่ (Bode plot) ของ LPF $H(s) = \\frac{1}{0.01(x)s+1}$\n",
    "\n",
    "#### คำตอบ"
   ]
  },
  {
   "cell_type": "markdown",
   "metadata": {},
   "source": [
    "ตัวอย่างคำตอบที่ถูกต้อง (ใช้ control library)"
   ]
  },
  {
   "cell_type": "code",
   "execution_count": 10,
   "metadata": {},
   "outputs": [
    {
     "data": {
      "image/png": "[encoded data removed]",
      "text/plain": [
       "<Figure size 432x288 with 2 Axes>"
      ]
     },
     "metadata": {
      "needs_background": "light"
     },
     "output_type": "display_data"
    }
   ],
   "source": [
    "# use Python control library (already imported in above cell as ctl)\n",
    "num = 1\n",
    "den = [0.02,1]  # x = 2\n",
    "H = ctl.tf(num,den)\n",
    "mag, ph, om = ctl.bode_plot(H, dB = True)"
   ]
  },
  {
   "cell_type": "markdown",
   "metadata": {},
   "source": [
    "ตัวอย่างคำตอบที่ถูกต้อง (ใช้ scipy.signal)"
   ]
  },
  {
   "cell_type": "code",
   "execution_count": 14,
   "metadata": {},
   "outputs": [
    {
     "data": {
      "image/png": "[encoded data removed]",
      "text/plain": [
       "<Figure size 432x288 with 1 Axes>"
      ]
     },
     "metadata": {
      "needs_background": "light"
     },
     "output_type": "display_data"
    },
    {
     "data": {
      "image/png": "[encoded data removed]",
      "text/plain": [
       "<Figure size 432x288 with 1 Axes>"
      ]
     },
     "metadata": {
      "needs_background": "light"
     },
     "output_type": "display_data"
    }
   ],
   "source": [
    "# use Scipy.signal and matplotlib\n",
    "from scipy import signal\n",
    "num = 1\n",
    "den = [0.02,1]  # x = 2\n",
    "H = signal.TransferFunction(num,den)\n",
    "w, mag, phase = signal.bode(H)\n",
    "plt.figure()\n",
    "plt.semilogx(w, mag)    # Bode magnitude plot\n",
    "plt.grid(True)\n",
    "plt.xlabel(\"Frequency (rad/s)\")\n",
    "plt.ylabel(\"Gain (dB)\")\n",
    "plt.figure()\n",
    "plt.semilogx(w, phase)  # Bode phase plot\n",
    "plt.grid(True)\n",
    "plt.xlabel(\"Frequency (rad/s)\")\n",
    "plt.ylabel(\"Phase (deg)\")\n",
    "plt.show()\n"
   ]
  },
  {
   "cell_type": "markdown",
   "metadata": {},
   "source": [
    "ตัวอย่างคำตอบที่ยอมรับได้ แต่ไม่แนะนำเพราจะเสียเวลามากคือใช้ซอฟต์แวร์อื่น (ใช้ MATLAB หรือ Scilab ได้เท่านั้น)"
   ]
  },
  {
   "cell_type": "code",
   "execution_count": null,
   "metadata": {},
   "outputs": [],
   "source": [
    "# คัดลอก MATLAB หรือ  Scilab script ทั้งหมดใส่มาในเซลคำตอบ\n",
    "num = 1;\n",
    "den = [0.02,1];\n",
    "H = tf(num,den)\n",
    "bode(H)"
   ]
  },
  {
   "cell_type": "code",
   "execution_count": null,
   "metadata": {},
   "outputs": [],
   "source": [
    "# เซฟพล็อตจาก MATLAB เป็นไฟล์ image อัพโหลดขึ้นไปที่ website สาธารณะ และใส่ URL ลงใน image tag ตัวอย่างคำสั่ง\n",
    "<img src=\"https://raw.githubusercontent.com/dewdotninja/exams/main/MATLAB_bode.png\" />\n",
    "(ต้องใช้ใน text cell ดังตัวอย่างด้านล่าง)"
   ]
  },
  {
   "cell_type": "markdown",
   "metadata": {},
   "source": [
    "<img src=\"https://raw.githubusercontent.com/dewdotninja/exams/main/MATLAB_bode.png\" />"
   ]
  },
  {
   "cell_type": "markdown",
   "metadata": {},
   "source": [
    "<div align=right>แก้ไขล่าสุด : 20 มกราคม 2564 - 10:35</div>"
   ]
  },
  {
   "cell_type": "code",
   "execution_count": null,
   "metadata": {},
   "outputs": [],
   "source": []
  }
 ],
 "metadata": {
  "kernelspec": {
   "display_name": "Python 3.7 (controlenv)",
   "language": "python",
   "name": "controlennv"
  },
  "language_info": {
   "codemirror_mode": {
    "name": "ipython",
    "version": 3
   },
   "file_extension": ".py",
   "mimetype": "text/x-python",
   "name": "python",
   "nbconvert_exporter": "python",
   "pygments_lexer": "ipython3",
   "version": "3.7.9"
  }
 },
 "nbformat": 4,
 "nbformat_minor": 4
}
